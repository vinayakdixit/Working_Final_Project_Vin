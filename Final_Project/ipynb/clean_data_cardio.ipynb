{
 "cells": [
  {
   "cell_type": "markdown",
   "metadata": {},
   "source": [
    "Correlating cardiovascular risk factors and chances of getting a Heart Attack"
   ]
  },
  {
   "cell_type": "code",
   "execution_count": 66,
   "metadata": {},
   "outputs": [],
   "source": [
    "#Import necessary modules\n",
    "import pandas as pd\n",
    "import seaborn as sns\n",
    "import matplotlib as plt\n",
    "import numpy as np\n",
    "import scipy.stats as stats\n",
    "from scipy.stats import norm"
   ]
  },
  {
   "cell_type": "code",
   "execution_count": 67,
   "metadata": {},
   "outputs": [
    {
     "data": {
      "text/html": [
       "<div>\n",
       "<style scoped>\n",
       "    .dataframe tbody tr th:only-of-type {\n",
       "        vertical-align: middle;\n",
       "    }\n",
       "\n",
       "    .dataframe tbody tr th {\n",
       "        vertical-align: top;\n",
       "    }\n",
       "\n",
       "    .dataframe thead th {\n",
       "        text-align: right;\n",
       "    }\n",
       "</style>\n",
       "<table border=\"1\" class=\"dataframe\">\n",
       "  <thead>\n",
       "    <tr style=\"text-align: right;\">\n",
       "      <th></th>\n",
       "      <th>id</th>\n",
       "      <th>age</th>\n",
       "      <th>gender</th>\n",
       "      <th>height</th>\n",
       "      <th>weight</th>\n",
       "      <th>ap_hi</th>\n",
       "      <th>ap_lo</th>\n",
       "      <th>cholesterol</th>\n",
       "      <th>gluc</th>\n",
       "      <th>smoke</th>\n",
       "      <th>alco</th>\n",
       "      <th>active</th>\n",
       "      <th>cardio</th>\n",
       "    </tr>\n",
       "  </thead>\n",
       "  <tbody>\n",
       "    <tr>\n",
       "      <th>0</th>\n",
       "      <td>0</td>\n",
       "      <td>18393</td>\n",
       "      <td>2</td>\n",
       "      <td>168</td>\n",
       "      <td>62.0</td>\n",
       "      <td>110</td>\n",
       "      <td>80</td>\n",
       "      <td>1</td>\n",
       "      <td>1</td>\n",
       "      <td>0</td>\n",
       "      <td>0</td>\n",
       "      <td>1</td>\n",
       "      <td>0</td>\n",
       "    </tr>\n",
       "    <tr>\n",
       "      <th>1</th>\n",
       "      <td>1</td>\n",
       "      <td>20228</td>\n",
       "      <td>1</td>\n",
       "      <td>156</td>\n",
       "      <td>85.0</td>\n",
       "      <td>140</td>\n",
       "      <td>90</td>\n",
       "      <td>3</td>\n",
       "      <td>1</td>\n",
       "      <td>0</td>\n",
       "      <td>0</td>\n",
       "      <td>1</td>\n",
       "      <td>1</td>\n",
       "    </tr>\n",
       "    <tr>\n",
       "      <th>2</th>\n",
       "      <td>2</td>\n",
       "      <td>18857</td>\n",
       "      <td>1</td>\n",
       "      <td>165</td>\n",
       "      <td>64.0</td>\n",
       "      <td>130</td>\n",
       "      <td>70</td>\n",
       "      <td>3</td>\n",
       "      <td>1</td>\n",
       "      <td>0</td>\n",
       "      <td>0</td>\n",
       "      <td>0</td>\n",
       "      <td>1</td>\n",
       "    </tr>\n",
       "    <tr>\n",
       "      <th>3</th>\n",
       "      <td>3</td>\n",
       "      <td>17623</td>\n",
       "      <td>2</td>\n",
       "      <td>169</td>\n",
       "      <td>82.0</td>\n",
       "      <td>150</td>\n",
       "      <td>100</td>\n",
       "      <td>1</td>\n",
       "      <td>1</td>\n",
       "      <td>0</td>\n",
       "      <td>0</td>\n",
       "      <td>1</td>\n",
       "      <td>1</td>\n",
       "    </tr>\n",
       "    <tr>\n",
       "      <th>4</th>\n",
       "      <td>4</td>\n",
       "      <td>17474</td>\n",
       "      <td>1</td>\n",
       "      <td>156</td>\n",
       "      <td>56.0</td>\n",
       "      <td>100</td>\n",
       "      <td>60</td>\n",
       "      <td>1</td>\n",
       "      <td>1</td>\n",
       "      <td>0</td>\n",
       "      <td>0</td>\n",
       "      <td>0</td>\n",
       "      <td>0</td>\n",
       "    </tr>\n",
       "  </tbody>\n",
       "</table>\n",
       "</div>"
      ],
      "text/plain": [
       "   id    age  gender  height  weight  ap_hi  ap_lo  cholesterol  gluc  smoke  \\\n",
       "0   0  18393       2     168    62.0    110     80            1     1      0   \n",
       "1   1  20228       1     156    85.0    140     90            3     1      0   \n",
       "2   2  18857       1     165    64.0    130     70            3     1      0   \n",
       "3   3  17623       2     169    82.0    150    100            1     1      0   \n",
       "4   4  17474       1     156    56.0    100     60            1     1      0   \n",
       "\n",
       "   alco  active  cardio  \n",
       "0     0       1       0  \n",
       "1     0       1       1  \n",
       "2     0       0       1  \n",
       "3     0       1       1  \n",
       "4     0       0       0  "
      ]
     },
     "execution_count": 67,
     "metadata": {},
     "output_type": "execute_result"
    }
   ],
   "source": [
    "#Vijay - Original Clean Up\n",
    "#Bring in the data CSV\n",
    "data = \"cardio_train.csv\"\n",
    "cardio_df = pd.read_csv(data, delimiter = ';')\n",
    "\n",
    "cardio_df.head()\n",
    "\n"
   ]
  },
  {
   "cell_type": "code",
   "execution_count": 68,
   "metadata": {},
   "outputs": [
    {
     "data": {
      "text/html": [
       "<div>\n",
       "<style scoped>\n",
       "    .dataframe tbody tr th:only-of-type {\n",
       "        vertical-align: middle;\n",
       "    }\n",
       "\n",
       "    .dataframe tbody tr th {\n",
       "        vertical-align: top;\n",
       "    }\n",
       "\n",
       "    .dataframe thead th {\n",
       "        text-align: right;\n",
       "    }\n",
       "</style>\n",
       "<table border=\"1\" class=\"dataframe\">\n",
       "  <thead>\n",
       "    <tr style=\"text-align: right;\">\n",
       "      <th></th>\n",
       "      <th>age</th>\n",
       "      <th>gender</th>\n",
       "      <th>height</th>\n",
       "      <th>weight</th>\n",
       "      <th>ap_hi</th>\n",
       "      <th>ap_lo</th>\n",
       "      <th>cholesterol</th>\n",
       "      <th>gluc</th>\n",
       "      <th>smoke</th>\n",
       "      <th>alco</th>\n",
       "      <th>active</th>\n",
       "      <th>cardio</th>\n",
       "      <th>BMI</th>\n",
       "    </tr>\n",
       "  </thead>\n",
       "  <tbody>\n",
       "    <tr>\n",
       "      <th>0</th>\n",
       "      <td>50.0</td>\n",
       "      <td>2</td>\n",
       "      <td>66.0</td>\n",
       "      <td>136.0</td>\n",
       "      <td>110</td>\n",
       "      <td>80</td>\n",
       "      <td>1</td>\n",
       "      <td>1</td>\n",
       "      <td>0</td>\n",
       "      <td>0</td>\n",
       "      <td>1</td>\n",
       "      <td>0</td>\n",
       "      <td>21.948577</td>\n",
       "    </tr>\n",
       "    <tr>\n",
       "      <th>1</th>\n",
       "      <td>55.0</td>\n",
       "      <td>1</td>\n",
       "      <td>61.0</td>\n",
       "      <td>187.0</td>\n",
       "      <td>140</td>\n",
       "      <td>90</td>\n",
       "      <td>3</td>\n",
       "      <td>1</td>\n",
       "      <td>0</td>\n",
       "      <td>0</td>\n",
       "      <td>1</td>\n",
       "      <td>1</td>\n",
       "      <td>35.329481</td>\n",
       "    </tr>\n",
       "    <tr>\n",
       "      <th>2</th>\n",
       "      <td>52.0</td>\n",
       "      <td>1</td>\n",
       "      <td>65.0</td>\n",
       "      <td>141.0</td>\n",
       "      <td>130</td>\n",
       "      <td>70</td>\n",
       "      <td>3</td>\n",
       "      <td>1</td>\n",
       "      <td>0</td>\n",
       "      <td>0</td>\n",
       "      <td>0</td>\n",
       "      <td>1</td>\n",
       "      <td>23.461065</td>\n",
       "    </tr>\n",
       "    <tr>\n",
       "      <th>3</th>\n",
       "      <td>48.0</td>\n",
       "      <td>2</td>\n",
       "      <td>67.0</td>\n",
       "      <td>180.0</td>\n",
       "      <td>150</td>\n",
       "      <td>100</td>\n",
       "      <td>1</td>\n",
       "      <td>1</td>\n",
       "      <td>0</td>\n",
       "      <td>0</td>\n",
       "      <td>1</td>\n",
       "      <td>1</td>\n",
       "      <td>28.188906</td>\n",
       "    </tr>\n",
       "    <tr>\n",
       "      <th>4</th>\n",
       "      <td>48.0</td>\n",
       "      <td>1</td>\n",
       "      <td>61.0</td>\n",
       "      <td>123.0</td>\n",
       "      <td>100</td>\n",
       "      <td>60</td>\n",
       "      <td>1</td>\n",
       "      <td>1</td>\n",
       "      <td>0</td>\n",
       "      <td>0</td>\n",
       "      <td>0</td>\n",
       "      <td>0</td>\n",
       "      <td>23.238108</td>\n",
       "    </tr>\n",
       "  </tbody>\n",
       "</table>\n",
       "</div>"
      ],
      "text/plain": [
       "    age  gender  height  weight  ap_hi  ap_lo  cholesterol  gluc  smoke  alco  \\\n",
       "0  50.0       2    66.0   136.0    110     80            1     1      0     0   \n",
       "1  55.0       1    61.0   187.0    140     90            3     1      0     0   \n",
       "2  52.0       1    65.0   141.0    130     70            3     1      0     0   \n",
       "3  48.0       2    67.0   180.0    150    100            1     1      0     0   \n",
       "4  48.0       1    61.0   123.0    100     60            1     1      0     0   \n",
       "\n",
       "   active  cardio        BMI  \n",
       "0       1       0  21.948577  \n",
       "1       1       1  35.329481  \n",
       "2       0       1  23.461065  \n",
       "3       1       1  28.188906  \n",
       "4       0       0  23.238108  "
      ]
     },
     "execution_count": 68,
     "metadata": {},
     "output_type": "execute_result"
    }
   ],
   "source": [
    "#Vijay - Original Clean Up\n",
    "#Clean up age & drop the unneeded ID column\n",
    "cardio1_df= cardio_df.drop(['id'],axis=1)\n",
    "# cardio1_df.active[cardio1_df.active == 1] = \"True\"\n",
    "# cardio1_df.active[cardio1_df.active == 0] = \"False\"\n",
    "age_upd = cardio1_df['age'].div(365)\n",
    "rounded_age = round(age_upd)\n",
    "cardio1_df.update(rounded_age)\n",
    "\n",
    "# Convert to US understood numbers & add column for BMI\n",
    "weight_upd = round(cardio1_df['weight']*2.2)\n",
    "height_upd = round(cardio1_df['height'].div(2.54))\n",
    "\n",
    "cardio1_df.update(weight_upd)\n",
    "cardio1_df.update(height_upd)\n",
    "cardio1_df.head()\n",
    "\n",
    "cardio1_df[\"BMI\"] = (cardio1_df['weight']*703)/(cardio1_df[\"height\"]*cardio1_df[\"height\"])\n",
    "cardio1_df.head()\n"
   ]
  },
  {
   "cell_type": "code",
   "execution_count": 69,
   "metadata": {},
   "outputs": [
    {
     "data": {
      "text/html": [
       "<div>\n",
       "<style scoped>\n",
       "    .dataframe tbody tr th:only-of-type {\n",
       "        vertical-align: middle;\n",
       "    }\n",
       "\n",
       "    .dataframe tbody tr th {\n",
       "        vertical-align: top;\n",
       "    }\n",
       "\n",
       "    .dataframe thead th {\n",
       "        text-align: right;\n",
       "    }\n",
       "</style>\n",
       "<table border=\"1\" class=\"dataframe\">\n",
       "  <thead>\n",
       "    <tr style=\"text-align: right;\">\n",
       "      <th></th>\n",
       "      <th>age</th>\n",
       "      <th>gender</th>\n",
       "      <th>height</th>\n",
       "      <th>weight</th>\n",
       "      <th>ap_hi</th>\n",
       "      <th>ap_lo</th>\n",
       "      <th>cholesterol</th>\n",
       "      <th>gluc</th>\n",
       "      <th>smoke</th>\n",
       "      <th>alco</th>\n",
       "      <th>active</th>\n",
       "      <th>cardio</th>\n",
       "      <th>BMI</th>\n",
       "    </tr>\n",
       "  </thead>\n",
       "  <tbody>\n",
       "    <tr>\n",
       "      <th>1</th>\n",
       "      <td>55.0</td>\n",
       "      <td>1</td>\n",
       "      <td>61.0</td>\n",
       "      <td>187.0</td>\n",
       "      <td>140</td>\n",
       "      <td>90</td>\n",
       "      <td>3</td>\n",
       "      <td>1</td>\n",
       "      <td>0</td>\n",
       "      <td>0</td>\n",
       "      <td>1</td>\n",
       "      <td>1</td>\n",
       "      <td>35.329481</td>\n",
       "    </tr>\n",
       "    <tr>\n",
       "      <th>2</th>\n",
       "      <td>52.0</td>\n",
       "      <td>1</td>\n",
       "      <td>65.0</td>\n",
       "      <td>141.0</td>\n",
       "      <td>130</td>\n",
       "      <td>70</td>\n",
       "      <td>3</td>\n",
       "      <td>1</td>\n",
       "      <td>0</td>\n",
       "      <td>0</td>\n",
       "      <td>0</td>\n",
       "      <td>1</td>\n",
       "      <td>23.461065</td>\n",
       "    </tr>\n",
       "    <tr>\n",
       "      <th>3</th>\n",
       "      <td>48.0</td>\n",
       "      <td>2</td>\n",
       "      <td>67.0</td>\n",
       "      <td>180.0</td>\n",
       "      <td>150</td>\n",
       "      <td>100</td>\n",
       "      <td>1</td>\n",
       "      <td>1</td>\n",
       "      <td>0</td>\n",
       "      <td>0</td>\n",
       "      <td>1</td>\n",
       "      <td>1</td>\n",
       "      <td>28.188906</td>\n",
       "    </tr>\n",
       "    <tr>\n",
       "      <th>7</th>\n",
       "      <td>62.0</td>\n",
       "      <td>2</td>\n",
       "      <td>70.0</td>\n",
       "      <td>209.0</td>\n",
       "      <td>130</td>\n",
       "      <td>90</td>\n",
       "      <td>3</td>\n",
       "      <td>3</td>\n",
       "      <td>0</td>\n",
       "      <td>0</td>\n",
       "      <td>1</td>\n",
       "      <td>1</td>\n",
       "      <td>29.985102</td>\n",
       "    </tr>\n",
       "    <tr>\n",
       "      <th>15</th>\n",
       "      <td>46.0</td>\n",
       "      <td>2</td>\n",
       "      <td>68.0</td>\n",
       "      <td>246.0</td>\n",
       "      <td>120</td>\n",
       "      <td>80</td>\n",
       "      <td>1</td>\n",
       "      <td>1</td>\n",
       "      <td>0</td>\n",
       "      <td>0</td>\n",
       "      <td>0</td>\n",
       "      <td>1</td>\n",
       "      <td>37.400087</td>\n",
       "    </tr>\n",
       "  </tbody>\n",
       "</table>\n",
       "</div>"
      ],
      "text/plain": [
       "     age  gender  height  weight  ap_hi  ap_lo  cholesterol  gluc  smoke  \\\n",
       "1   55.0       1    61.0   187.0    140     90            3     1      0   \n",
       "2   52.0       1    65.0   141.0    130     70            3     1      0   \n",
       "3   48.0       2    67.0   180.0    150    100            1     1      0   \n",
       "7   62.0       2    70.0   209.0    130     90            3     3      0   \n",
       "15  46.0       2    68.0   246.0    120     80            1     1      0   \n",
       "\n",
       "    alco  active  cardio        BMI  \n",
       "1      0       1       1  35.329481  \n",
       "2      0       0       1  23.461065  \n",
       "3      0       1       1  28.188906  \n",
       "7      0       1       1  29.985102  \n",
       "15     0       0       1  37.400087  "
      ]
     },
     "execution_count": 69,
     "metadata": {},
     "output_type": "execute_result"
    }
   ],
   "source": [
    "#Vijay - Original Clean Up\n",
    "#Get Heart attack group data\n",
    "cardio_1 = cardio1_df.groupby([\"cardio\"]).get_group(1)\n",
    "cardio_1.head()"
   ]
  },
  {
   "cell_type": "code",
   "execution_count": 70,
   "metadata": {},
   "outputs": [
    {
     "data": {
      "text/html": [
       "<div>\n",
       "<style scoped>\n",
       "    .dataframe tbody tr th:only-of-type {\n",
       "        vertical-align: middle;\n",
       "    }\n",
       "\n",
       "    .dataframe tbody tr th {\n",
       "        vertical-align: top;\n",
       "    }\n",
       "\n",
       "    .dataframe thead th {\n",
       "        text-align: right;\n",
       "    }\n",
       "</style>\n",
       "<table border=\"1\" class=\"dataframe\">\n",
       "  <thead>\n",
       "    <tr style=\"text-align: right;\">\n",
       "      <th></th>\n",
       "      <th>age</th>\n",
       "      <th>gender</th>\n",
       "      <th>height</th>\n",
       "      <th>weight</th>\n",
       "      <th>ap_hi</th>\n",
       "      <th>ap_lo</th>\n",
       "      <th>cholesterol</th>\n",
       "      <th>gluc</th>\n",
       "      <th>smoke</th>\n",
       "      <th>alco</th>\n",
       "      <th>active</th>\n",
       "      <th>cardio</th>\n",
       "      <th>BMI</th>\n",
       "    </tr>\n",
       "  </thead>\n",
       "  <tbody>\n",
       "    <tr>\n",
       "      <th>0</th>\n",
       "      <td>50.0</td>\n",
       "      <td>2</td>\n",
       "      <td>66.0</td>\n",
       "      <td>136.0</td>\n",
       "      <td>110</td>\n",
       "      <td>80</td>\n",
       "      <td>1</td>\n",
       "      <td>1</td>\n",
       "      <td>0</td>\n",
       "      <td>0</td>\n",
       "      <td>1</td>\n",
       "      <td>0</td>\n",
       "      <td>21.948577</td>\n",
       "    </tr>\n",
       "    <tr>\n",
       "      <th>4</th>\n",
       "      <td>48.0</td>\n",
       "      <td>1</td>\n",
       "      <td>61.0</td>\n",
       "      <td>123.0</td>\n",
       "      <td>100</td>\n",
       "      <td>60</td>\n",
       "      <td>1</td>\n",
       "      <td>1</td>\n",
       "      <td>0</td>\n",
       "      <td>0</td>\n",
       "      <td>0</td>\n",
       "      <td>0</td>\n",
       "      <td>23.238108</td>\n",
       "    </tr>\n",
       "    <tr>\n",
       "      <th>5</th>\n",
       "      <td>60.0</td>\n",
       "      <td>1</td>\n",
       "      <td>59.0</td>\n",
       "      <td>147.0</td>\n",
       "      <td>120</td>\n",
       "      <td>80</td>\n",
       "      <td>2</td>\n",
       "      <td>2</td>\n",
       "      <td>0</td>\n",
       "      <td>0</td>\n",
       "      <td>0</td>\n",
       "      <td>0</td>\n",
       "      <td>29.687159</td>\n",
       "    </tr>\n",
       "    <tr>\n",
       "      <th>6</th>\n",
       "      <td>61.0</td>\n",
       "      <td>1</td>\n",
       "      <td>62.0</td>\n",
       "      <td>205.0</td>\n",
       "      <td>130</td>\n",
       "      <td>80</td>\n",
       "      <td>3</td>\n",
       "      <td>1</td>\n",
       "      <td>0</td>\n",
       "      <td>0</td>\n",
       "      <td>1</td>\n",
       "      <td>0</td>\n",
       "      <td>37.490895</td>\n",
       "    </tr>\n",
       "    <tr>\n",
       "      <th>8</th>\n",
       "      <td>48.0</td>\n",
       "      <td>1</td>\n",
       "      <td>62.0</td>\n",
       "      <td>156.0</td>\n",
       "      <td>110</td>\n",
       "      <td>70</td>\n",
       "      <td>1</td>\n",
       "      <td>1</td>\n",
       "      <td>0</td>\n",
       "      <td>0</td>\n",
       "      <td>1</td>\n",
       "      <td>0</td>\n",
       "      <td>28.529657</td>\n",
       "    </tr>\n",
       "  </tbody>\n",
       "</table>\n",
       "</div>"
      ],
      "text/plain": [
       "    age  gender  height  weight  ap_hi  ap_lo  cholesterol  gluc  smoke  alco  \\\n",
       "0  50.0       2    66.0   136.0    110     80            1     1      0     0   \n",
       "4  48.0       1    61.0   123.0    100     60            1     1      0     0   \n",
       "5  60.0       1    59.0   147.0    120     80            2     2      0     0   \n",
       "6  61.0       1    62.0   205.0    130     80            3     1      0     0   \n",
       "8  48.0       1    62.0   156.0    110     70            1     1      0     0   \n",
       "\n",
       "   active  cardio        BMI  \n",
       "0       1       0  21.948577  \n",
       "4       0       0  23.238108  \n",
       "5       0       0  29.687159  \n",
       "6       1       0  37.490895  \n",
       "8       1       0  28.529657  "
      ]
     },
     "execution_count": 70,
     "metadata": {},
     "output_type": "execute_result"
    }
   ],
   "source": [
    "#Vijay - Original Clean Up\n",
    "#Group by No Heart Attack\n",
    "cardio_0 = cardio1_df.groupby([\"cardio\"]).get_group(0)\n",
    "cardio_0.head()"
   ]
  },
  {
   "cell_type": "code",
   "execution_count": 71,
   "metadata": {},
   "outputs": [
    {
     "data": {
      "text/plain": [
       "Ttest_indResult(statistic=64.7610700531675, pvalue=0.0)"
      ]
     },
     "execution_count": 71,
     "metadata": {},
     "output_type": "execute_result"
    },
    {
     "data": {
      "image/png": "[encoded data removed]",
      "text/plain": [
       "<Figure size 432x288 with 1 Axes>"
      ]
     },
     "metadata": {},
     "output_type": "display_data"
    }
   ],
   "source": [
    "#Vijay - Comparing No Heart Attack group to Heart Attack group \n",
    "\n",
    "ax0 = sns.distplot(cardio_0[\"age\"], bins=10, fit=stats.norm, kde=False, label = \"Age- No attack\", color = \"g\", fit_kws={\"color\":\"green\"})\n",
    "ax1 = sns.distplot(cardio_1[\"age\"], bins=10, fit=stats.norm, kde=False, label = \"Age- Attack\", color =\"b\", fit_kws={\"color\":\"blue\"})\n",
    "\n",
    "#Change how it looks\n",
    "sns.set_style(\"darkgrid\")\n",
    "sns.set_style(\"ticks\")\n",
    "sns.set_context(\"paper\", font_scale=1.5)\n",
    "sns.set_palette(\"deep\")\n",
    "ax0.set(xlabel='Age', ylabel='Frequency Count', title = \"Heart Attacks vs No Heart AttacksS \")\n",
    "ax1.set(xlabel='Age', ylabel='Frequency Count', title = \"Heart Attacks vs No Heart Attacks \")\n",
    "\n",
    "#Set x limits\n",
    "ax0.set(xlim = [0,100])\n",
    "ax1.set(xlim = [0,100])\n",
    "\n",
    "#Save the figure\n",
    "ax0.figure.savefig(\"SBP.png\")\n",
    "ax1.figure.savefig(\"SBP.png\")\n",
    "stats.ttest_ind(cardio_1['age'], cardio_0['age'], equal_var=False)\n"
   ]
  },
  {
   "cell_type": "markdown",
   "metadata": {},
   "source": [
    "- Based on the Pvalue and the frequency count we can infer that the populations of heart attack\n",
    "  and no heart attack individuals belong to 2 seperate population groups.\n",
    "    \n"
   ]
  },
  {
   "cell_type": "code",
   "execution_count": 72,
   "metadata": {},
   "outputs": [],
   "source": [
    "#Vijay - Creating 4 df.\n",
    "cardio_1.age.value_counts()\n",
    "young_age1= cardio_1[cardio_1.age <= 50]\n",
    "old_age1 = cardio_1[(cardio_1.age >50) & (cardio_1.age<= 80)]\n",
    "young_age0= cardio_0[cardio_0.age <= 50]\n",
    "old_age0 = cardio_0[(cardio_0.age >50) & (cardio_0.age<= 80)]"
   ]
  },
  {
   "cell_type": "code",
   "execution_count": 73,
   "metadata": {},
   "outputs": [
    {
     "data": {
      "text/plain": [
       "Ttest_indResult(statistic=-21.923388608851653, pvalue=2.624156463009305e-105)"
      ]
     },
     "execution_count": 73,
     "metadata": {},
     "output_type": "execute_result"
    },
    {
     "data": {
      "image/png": "[encoded data removed]",
      "text/plain": [
       "<Figure size 432x288 with 1 Axes>"
      ]
     },
     "metadata": {},
     "output_type": "display_data"
    }
   ],
   "source": [
    "#Vijay - Comparing No Heart Attack group to Heart Attack group fro young age\n",
    "\n",
    "ax0 = sns.distplot(young_age0['age'], bins=10, fit=stats.norm, kde=False, label = \"Age- No attack\", color = \"g\", fit_kws={\"color\":\"green\"})\n",
    "ax1 = sns.distplot(young_age1['age'], bins=10, fit=stats.norm, kde=False, label = \"Age- Attack\", color =\"b\", fit_kws={\"color\":\"blue\"})\n",
    "\n",
    "#Change how it looks\n",
    "sns.set_style(\"darkgrid\")\n",
    "sns.set_style(\"ticks\")\n",
    "sns.set_context(\"paper\", font_scale=1.5)\n",
    "sns.set_palette(\"deep\")\n",
    "ax0.set(xlabel='Young Age', ylabel='Frequency Count', title = \"Heart Attacks vs No Heart Attacks\")\n",
    "ax1.set(xlabel='Young Age', ylabel='Frequency Count', title = \"Heart Attacks vs No Heart Attacks \")\n",
    "\n",
    "#Set x limits\n",
    "ax0.set(xlim = [25,55])\n",
    "ax1.set(xlim = [25,55])\n",
    "\n",
    "#Save the figure\n",
    "ax0.figure.savefig(\"SBP.png\")\n",
    "ax1.figure.savefig(\"SBP.png\")\n",
    "stats.ttest_ind(young_age0['age'], young_age1['age'], equal_var=False)\n"
   ]
  },
  {
   "cell_type": "markdown",
   "metadata": {},
   "source": [
    "- Based on the graph we can see that there is a higher frequency of individuals who have had heart attacks. \n",
    "- We can also infer based on the graph that those individuals are older in age. "
   ]
  },
  {
   "cell_type": "code",
   "execution_count": 74,
   "metadata": {},
   "outputs": [
    {
     "data": {
      "text/plain": [
       "Ttest_indResult(statistic=-34.675502194249596, pvalue=6.1639792497485655e-260)"
      ]
     },
     "execution_count": 74,
     "metadata": {},
     "output_type": "execute_result"
    },
    {
     "data": {
      "image/png": "[encoded data removed]",
      "text/plain": [
       "<Figure size 432x288 with 1 Axes>"
      ]
     },
     "metadata": {},
     "output_type": "display_data"
    }
   ],
   "source": [
    "#Vijay - Comparing No Heart Attack group to Heart Attack group for old age\n",
    "\n",
    "ax0 = sns.distplot(old_age0['age'], bins=10, fit=stats.norm, kde=False, label = \"Age- No attack\", color = \"g\", fit_kws={\"color\":\"green\"})\n",
    "ax1 = sns.distplot(old_age1['age'], bins=10, fit=stats.norm, kde=False, label = \"Age- Attack\", color =\"b\", fit_kws={\"color\":\"blue\"})\n",
    "\n",
    "#Change how it looks\n",
    "sns.set_style(\"darkgrid\")\n",
    "sns.set_style(\"ticks\")\n",
    "sns.set_context(\"paper\", font_scale=1.5)\n",
    "sns.set_palette(\"deep\")\n",
    "ax0.set(xlabel='Old Age', ylabel='Frequency Count', title = \"Heart Attacks vs No Heart Attacks\")\n",
    "ax1.set(xlabel='Old Age', ylabel='Frequency Count', title = \"Heart Attacks vs No Heart Attacks\")\n",
    "\n",
    "#Set x limits\n",
    "ax0.set(xlim = [50,80])\n",
    "ax1.set(xlim = [50,80])\n",
    "\n",
    "#Save the figure\n",
    "ax0.figure.savefig(\"SBP.png\")\n",
    "ax1.figure.savefig(\"SBP.png\")\n",
    "\n",
    "\n",
    "stats.ttest_ind(old_age0['age'], old_age1['age'], equal_var=False)\n"
   ]
  },
  {
   "cell_type": "markdown",
   "metadata": {},
   "source": [
    "- Based on the graph it shows that the majority of the population of old age who have had heart attacks are older then the population who haven't. "
   ]
  },
  {
   "cell_type": "code",
   "execution_count": 75,
   "metadata": {},
   "outputs": [
    {
     "data": {
      "text/plain": [
       "Women    22914\n",
       "Men      12107\n",
       "dtype: int64"
      ]
     },
     "execution_count": 75,
     "metadata": {},
     "output_type": "execute_result"
    }
   ],
   "source": [
    "#Vijay\n",
    "#Expected for chi for Gender - no Heart Attack\n",
    "Female_noattack = len(cardio_0[cardio_0[\"gender\"] == 1])\n",
    "Female_noattack\n",
    "\n",
    "Male_noattack = len(cardio_0[cardio_0[\"gender\"] == 2])\n",
    "Male_noattack\n",
    "\n",
    "#Create expected series\n",
    "expected=pd.Series([Female_noattack, Male_noattack],index = ['Women', 'Men'])\n",
    "expected\n"
   ]
  },
  {
   "cell_type": "code",
   "execution_count": 77,
   "metadata": {},
   "outputs": [
    {
     "data": {
      "text/plain": [
       "Women    22616\n",
       "Men      12363\n",
       "dtype: int64"
      ]
     },
     "execution_count": 77,
     "metadata": {},
     "output_type": "execute_result"
    }
   ],
   "source": [
    "#Vijay\n",
    "#Expected for chi for Gender - Heart Attack\n",
    "Female_attack = len(cardio_1[cardio_1[\"gender\"] == 1])\n",
    "Female_attack\n",
    "\n",
    "Male_attack = len(cardio_1[cardio_1[\"gender\"] == 2])\n",
    "Male_attack\n",
    "\n",
    "#Create expected series\n",
    "observed=pd.Series([Female_attack, Male_attack],index = ['Women', 'Men'])\n",
    "observed"
   ]
  },
  {
   "cell_type": "code",
   "execution_count": 87,
   "metadata": {},
   "outputs": [
    {
     "data": {
      "text/html": [
       "<div>\n",
       "<style scoped>\n",
       "    .dataframe tbody tr th:only-of-type {\n",
       "        vertical-align: middle;\n",
       "    }\n",
       "\n",
       "    .dataframe tbody tr th {\n",
       "        vertical-align: top;\n",
       "    }\n",
       "\n",
       "    .dataframe thead th {\n",
       "        text-align: right;\n",
       "    }\n",
       "</style>\n",
       "<table border=\"1\" class=\"dataframe\">\n",
       "  <thead>\n",
       "    <tr style=\"text-align: right;\">\n",
       "      <th></th>\n",
       "      <th>Observed</th>\n",
       "      <th>Expected</th>\n",
       "    </tr>\n",
       "  </thead>\n",
       "  <tbody>\n",
       "    <tr>\n",
       "      <th>Women</th>\n",
       "      <td>22616</td>\n",
       "      <td>22914</td>\n",
       "    </tr>\n",
       "    <tr>\n",
       "      <th>Men</th>\n",
       "      <td>12363</td>\n",
       "      <td>12107</td>\n",
       "    </tr>\n",
       "  </tbody>\n",
       "</table>\n",
       "</div>"
      ],
      "text/plain": [
       "       Observed  Expected\n",
       "Women     22616     22914\n",
       "Men       12363     12107"
      ]
     },
     "execution_count": 87,
     "metadata": {},
     "output_type": "execute_result"
    }
   ],
   "source": [
    "gender_df = pd.DataFrame([observed,expected]).T\n",
    "gender_df.columns = ['Observed','Expected']\n",
    "gender_df"
   ]
  },
  {
   "cell_type": "code",
   "execution_count": 88,
   "metadata": {},
   "outputs": [
    {
     "data": {
      "text/plain": [
       "Power_divergenceResult(statistic=9.288601428510882, pvalue=0.002305841381905467)"
      ]
     },
     "execution_count": 88,
     "metadata": {},
     "output_type": "execute_result"
    }
   ],
   "source": [
    "stats.chisquare(gender_df['Observed'], gender_df['Expected'])"
   ]
  },
  {
   "cell_type": "code",
   "execution_count": 15,
   "metadata": {},
   "outputs": [
    {
     "data": {
      "text/html": [
       "<div>\n",
       "<style scoped>\n",
       "    .dataframe tbody tr th:only-of-type {\n",
       "        vertical-align: middle;\n",
       "    }\n",
       "\n",
       "    .dataframe tbody tr th {\n",
       "        vertical-align: top;\n",
       "    }\n",
       "\n",
       "    .dataframe thead th {\n",
       "        text-align: right;\n",
       "    }\n",
       "</style>\n",
       "<table border=\"1\" class=\"dataframe\">\n",
       "  <thead>\n",
       "    <tr style=\"text-align: right;\">\n",
       "      <th></th>\n",
       "      <th>age</th>\n",
       "      <th>gender</th>\n",
       "      <th>height</th>\n",
       "      <th>weight</th>\n",
       "      <th>ap_hi</th>\n",
       "      <th>ap_lo</th>\n",
       "      <th>cholesterol</th>\n",
       "      <th>gluc</th>\n",
       "      <th>smoke</th>\n",
       "      <th>alco</th>\n",
       "      <th>active</th>\n",
       "      <th>cardio</th>\n",
       "      <th>BMI</th>\n",
       "    </tr>\n",
       "  </thead>\n",
       "  <tbody>\n",
       "    <tr>\n",
       "      <th>0</th>\n",
       "      <td>50.0</td>\n",
       "      <td>2</td>\n",
       "      <td>66.0</td>\n",
       "      <td>136.0</td>\n",
       "      <td>110</td>\n",
       "      <td>80</td>\n",
       "      <td>1</td>\n",
       "      <td>1</td>\n",
       "      <td>0</td>\n",
       "      <td>0</td>\n",
       "      <td>1</td>\n",
       "      <td>0</td>\n",
       "      <td>21.948577</td>\n",
       "    </tr>\n",
       "    <tr>\n",
       "      <th>4</th>\n",
       "      <td>48.0</td>\n",
       "      <td>1</td>\n",
       "      <td>61.0</td>\n",
       "      <td>123.0</td>\n",
       "      <td>100</td>\n",
       "      <td>60</td>\n",
       "      <td>1</td>\n",
       "      <td>1</td>\n",
       "      <td>0</td>\n",
       "      <td>0</td>\n",
       "      <td>0</td>\n",
       "      <td>0</td>\n",
       "      <td>23.238108</td>\n",
       "    </tr>\n",
       "    <tr>\n",
       "      <th>5</th>\n",
       "      <td>60.0</td>\n",
       "      <td>1</td>\n",
       "      <td>59.0</td>\n",
       "      <td>147.0</td>\n",
       "      <td>120</td>\n",
       "      <td>80</td>\n",
       "      <td>2</td>\n",
       "      <td>2</td>\n",
       "      <td>0</td>\n",
       "      <td>0</td>\n",
       "      <td>0</td>\n",
       "      <td>0</td>\n",
       "      <td>29.687159</td>\n",
       "    </tr>\n",
       "    <tr>\n",
       "      <th>6</th>\n",
       "      <td>61.0</td>\n",
       "      <td>1</td>\n",
       "      <td>62.0</td>\n",
       "      <td>205.0</td>\n",
       "      <td>130</td>\n",
       "      <td>80</td>\n",
       "      <td>3</td>\n",
       "      <td>1</td>\n",
       "      <td>0</td>\n",
       "      <td>0</td>\n",
       "      <td>1</td>\n",
       "      <td>0</td>\n",
       "      <td>37.490895</td>\n",
       "    </tr>\n",
       "    <tr>\n",
       "      <th>8</th>\n",
       "      <td>48.0</td>\n",
       "      <td>1</td>\n",
       "      <td>62.0</td>\n",
       "      <td>156.0</td>\n",
       "      <td>110</td>\n",
       "      <td>70</td>\n",
       "      <td>1</td>\n",
       "      <td>1</td>\n",
       "      <td>0</td>\n",
       "      <td>0</td>\n",
       "      <td>1</td>\n",
       "      <td>0</td>\n",
       "      <td>28.529657</td>\n",
       "    </tr>\n",
       "  </tbody>\n",
       "</table>\n",
       "</div>"
      ],
      "text/plain": [
       "    age  gender  height  weight  ap_hi  ap_lo  cholesterol  gluc  smoke  alco  \\\n",
       "0  50.0       2    66.0   136.0    110     80            1     1      0     0   \n",
       "4  48.0       1    61.0   123.0    100     60            1     1      0     0   \n",
       "5  60.0       1    59.0   147.0    120     80            2     2      0     0   \n",
       "6  61.0       1    62.0   205.0    130     80            3     1      0     0   \n",
       "8  48.0       1    62.0   156.0    110     70            1     1      0     0   \n",
       "\n",
       "   active  cardio        BMI  \n",
       "0       1       0  21.948577  \n",
       "4       0       0  23.238108  \n",
       "5       0       0  29.687159  \n",
       "6       1       0  37.490895  \n",
       "8       1       0  28.529657  "
      ]
     },
     "execution_count": 15,
     "metadata": {},
     "output_type": "execute_result"
    }
   ],
   "source": [
    "#Kendall\n",
    "#Clean Cardio0 to remove outliers - negative and impossibly high BPs\n",
    "cardio_0 = cardio_0[cardio_0['ap_lo'] >= 50]\n",
    "cardio_0 = cardio_0[cardio_0['ap_lo'] < 200]\n",
    "cardio_0.head()"
   ]
  },
  {
   "cell_type": "code",
   "execution_count": 16,
   "metadata": {},
   "outputs": [
    {
     "data": {
      "text/html": [
       "<div>\n",
       "<style scoped>\n",
       "    .dataframe tbody tr th:only-of-type {\n",
       "        vertical-align: middle;\n",
       "    }\n",
       "\n",
       "    .dataframe tbody tr th {\n",
       "        vertical-align: top;\n",
       "    }\n",
       "\n",
       "    .dataframe thead th {\n",
       "        text-align: right;\n",
       "    }\n",
       "</style>\n",
       "<table border=\"1\" class=\"dataframe\">\n",
       "  <thead>\n",
       "    <tr style=\"text-align: right;\">\n",
       "      <th></th>\n",
       "      <th>age</th>\n",
       "      <th>gender</th>\n",
       "      <th>height</th>\n",
       "      <th>weight</th>\n",
       "      <th>ap_hi</th>\n",
       "      <th>ap_lo</th>\n",
       "      <th>cholesterol</th>\n",
       "      <th>gluc</th>\n",
       "      <th>smoke</th>\n",
       "      <th>alco</th>\n",
       "      <th>active</th>\n",
       "      <th>cardio</th>\n",
       "      <th>BMI</th>\n",
       "    </tr>\n",
       "  </thead>\n",
       "  <tbody>\n",
       "    <tr>\n",
       "      <th>1</th>\n",
       "      <td>55.0</td>\n",
       "      <td>1</td>\n",
       "      <td>61.0</td>\n",
       "      <td>187.0</td>\n",
       "      <td>140</td>\n",
       "      <td>90</td>\n",
       "      <td>3</td>\n",
       "      <td>1</td>\n",
       "      <td>0</td>\n",
       "      <td>0</td>\n",
       "      <td>1</td>\n",
       "      <td>1</td>\n",
       "      <td>35.329481</td>\n",
       "    </tr>\n",
       "    <tr>\n",
       "      <th>2</th>\n",
       "      <td>52.0</td>\n",
       "      <td>1</td>\n",
       "      <td>65.0</td>\n",
       "      <td>141.0</td>\n",
       "      <td>130</td>\n",
       "      <td>70</td>\n",
       "      <td>3</td>\n",
       "      <td>1</td>\n",
       "      <td>0</td>\n",
       "      <td>0</td>\n",
       "      <td>0</td>\n",
       "      <td>1</td>\n",
       "      <td>23.461065</td>\n",
       "    </tr>\n",
       "    <tr>\n",
       "      <th>3</th>\n",
       "      <td>48.0</td>\n",
       "      <td>2</td>\n",
       "      <td>67.0</td>\n",
       "      <td>180.0</td>\n",
       "      <td>150</td>\n",
       "      <td>100</td>\n",
       "      <td>1</td>\n",
       "      <td>1</td>\n",
       "      <td>0</td>\n",
       "      <td>0</td>\n",
       "      <td>1</td>\n",
       "      <td>1</td>\n",
       "      <td>28.188906</td>\n",
       "    </tr>\n",
       "    <tr>\n",
       "      <th>7</th>\n",
       "      <td>62.0</td>\n",
       "      <td>2</td>\n",
       "      <td>70.0</td>\n",
       "      <td>209.0</td>\n",
       "      <td>130</td>\n",
       "      <td>90</td>\n",
       "      <td>3</td>\n",
       "      <td>3</td>\n",
       "      <td>0</td>\n",
       "      <td>0</td>\n",
       "      <td>1</td>\n",
       "      <td>1</td>\n",
       "      <td>29.985102</td>\n",
       "    </tr>\n",
       "    <tr>\n",
       "      <th>15</th>\n",
       "      <td>46.0</td>\n",
       "      <td>2</td>\n",
       "      <td>68.0</td>\n",
       "      <td>246.0</td>\n",
       "      <td>120</td>\n",
       "      <td>80</td>\n",
       "      <td>1</td>\n",
       "      <td>1</td>\n",
       "      <td>0</td>\n",
       "      <td>0</td>\n",
       "      <td>0</td>\n",
       "      <td>1</td>\n",
       "      <td>37.400087</td>\n",
       "    </tr>\n",
       "  </tbody>\n",
       "</table>\n",
       "</div>"
      ],
      "text/plain": [
       "     age  gender  height  weight  ap_hi  ap_lo  cholesterol  gluc  smoke  \\\n",
       "1   55.0       1    61.0   187.0    140     90            3     1      0   \n",
       "2   52.0       1    65.0   141.0    130     70            3     1      0   \n",
       "3   48.0       2    67.0   180.0    150    100            1     1      0   \n",
       "7   62.0       2    70.0   209.0    130     90            3     3      0   \n",
       "15  46.0       2    68.0   246.0    120     80            1     1      0   \n",
       "\n",
       "    alco  active  cardio        BMI  \n",
       "1      0       1       1  35.329481  \n",
       "2      0       0       1  23.461065  \n",
       "3      0       1       1  28.188906  \n",
       "7      0       1       1  29.985102  \n",
       "15     0       0       1  37.400087  "
      ]
     },
     "execution_count": 16,
     "metadata": {},
     "output_type": "execute_result"
    }
   ],
   "source": [
    "#Kendall\n",
    "#Clean Cardio1 to remove outliers - negative and impossibly high BPs\n",
    "cardio_1 = cardio_1[cardio_1['ap_lo'] >= 50]\n",
    "cardio_1 = cardio_1[cardio_1['ap_lo'] < 200]\n",
    "cardio_1.head()"
   ]
  },
  {
   "cell_type": "code",
   "execution_count": 17,
   "metadata": {},
   "outputs": [
    {
     "data": {
      "text/plain": [
       "Ttest_indResult(statistic=-93.4076197256065, pvalue=0.0)"
      ]
     },
     "execution_count": 17,
     "metadata": {},
     "output_type": "execute_result"
    }
   ],
   "source": [
    "#Kendall\n",
    "#DBP ttest comparison for heart attack vs no heart attack\n",
    "stats.ttest_ind(cardio_0['ap_lo'], cardio_1['ap_lo'], equal_var = False)"
   ]
  },
  {
   "cell_type": "code",
   "execution_count": 18,
   "metadata": {},
   "outputs": [
    {
     "data": {
      "image/png": "[encoded data removed]",
      "text/plain": [
       "<Figure size 432x288 with 1 Axes>"
      ]
     },
     "metadata": {},
     "output_type": "display_data"
    }
   ],
   "source": [
    "#Kendall\n",
    "#Display the bell curve\n",
    "cardio0_dbp = sns.distplot(cardio_0['ap_lo'], fit = norm, label = \"DBP Heart \", color = \"g\", bins = 10, kde = False, fit_kws={\"color\":\"green\"})\n",
    "cardio1_dbp = sns.distplot(cardio_1['ap_lo'], fit = norm, label = \"DBP Non Heart Attack\", color = \"b\", bins = 10, kde = False, fit_kws={\"color\":\"blue\"})\n",
    "\n",
    "#Change how it looks\n",
    "sns.set_style(\"darkgrid\")\n",
    "sns.set_style(\"ticks\")\n",
    "sns.set_context(\"paper\", font_scale=1.5)\n",
    "sns.set_palette(\"deep\")\n",
    "cardio0_dbp.set(xlabel='Diastolic Blood Pressure', ylabel='Frequency Count', title = \"Diastolic Blood Pressure: Risk of Heart Attack\")\n",
    "cardio1_dbp.set(xlabel='Diastolic Blood Pressure', ylabel='Frequency Count', title = \"Diastolic Blood Pressure: Risk of Heart Attack\")\n",
    "\n",
    "#Set x limits\n",
    "cardio0_dbp.set(xlim = [0,250])\n",
    "cardio1_dbp.set(xlim = [0,250])\n",
    "\n",
    "#Save the figure\n",
    "cardio0_dbp.figure.savefig(\"DBP.png\")\n",
    "cardio1_dbp.figure.savefig(\"DBP.png\")"
   ]
  },
  {
   "cell_type": "code",
   "execution_count": 19,
   "metadata": {},
   "outputs": [
    {
     "name": "stdout",
     "output_type": "stream",
     "text": [
      "30734\n",
      "2091\n",
      "2003\n",
      "27900\n",
      "2994\n",
      "3245\n"
     ]
    }
   ],
   "source": [
    "#Kendall\n",
    "#Find 1,2,3 Category Totals\n",
    "\n",
    "#Get sums of 3 categories for No Heart Attack\n",
    "cat1_0 = cardio_0[cardio_0['gluc']==1].count()\n",
    "print(cat1_0['gluc'])\n",
    "cat2_0 = cardio_0[cardio_0['gluc']==2].count()\n",
    "print(cat2_0['gluc'])\n",
    "cat3_0 = cardio_0[cardio_0['gluc']==3].count()\n",
    "print(cat3_0['gluc'])\n",
    "\n",
    "#Get sums of 3 categories for Yes Heart Attack\n",
    "cat1_1 = cardio_1[cardio_1['gluc']==1].count()\n",
    "print(cat1_1['gluc'])\n",
    "cat2_1 = cardio_1[cardio_1['gluc']==2].count()\n",
    "print(cat2_1['gluc'])\n",
    "cat3_1 = cardio_1[cardio_1['gluc']==3].count()\n",
    "print(cat3_1['gluc'])"
   ]
  },
  {
   "cell_type": "code",
   "execution_count": 20,
   "metadata": {},
   "outputs": [
    {
     "data": {
      "text/html": [
       "<div>\n",
       "<style scoped>\n",
       "    .dataframe tbody tr th:only-of-type {\n",
       "        vertical-align: middle;\n",
       "    }\n",
       "\n",
       "    .dataframe tbody tr th {\n",
       "        vertical-align: top;\n",
       "    }\n",
       "\n",
       "    .dataframe thead th {\n",
       "        text-align: right;\n",
       "    }\n",
       "</style>\n",
       "<table border=\"1\" class=\"dataframe\">\n",
       "  <thead>\n",
       "    <tr style=\"text-align: right;\">\n",
       "      <th></th>\n",
       "      <th>0</th>\n",
       "      <th>1</th>\n",
       "    </tr>\n",
       "  </thead>\n",
       "  <tbody>\n",
       "    <tr>\n",
       "      <th>Normal</th>\n",
       "      <td>30734</td>\n",
       "      <td>27900</td>\n",
       "    </tr>\n",
       "    <tr>\n",
       "      <th>Above Normal</th>\n",
       "      <td>2091</td>\n",
       "      <td>2994</td>\n",
       "    </tr>\n",
       "    <tr>\n",
       "      <th>Well Above Normal</th>\n",
       "      <td>2003</td>\n",
       "      <td>3245</td>\n",
       "    </tr>\n",
       "  </tbody>\n",
       "</table>\n",
       "</div>"
      ],
      "text/plain": [
       "                       0      1\n",
       "Normal             30734  27900\n",
       "Above Normal        2091   2994\n",
       "Well Above Normal   2003   3245"
      ]
     },
     "execution_count": 20,
     "metadata": {},
     "output_type": "execute_result"
    }
   ],
   "source": [
    "#Kendall\n",
    "#Create Chi Square DF\n",
    "cs_data = pd.Series([cat1_0['gluc'], cat2_0['gluc'], cat3_0['gluc']], index = [\"Normal\", \"Above Normal\", \"Well Above Normal\"])\n",
    "cs_exp = pd.Series([cat1_1['gluc'], cat2_1['gluc'], cat3_1['gluc']], index = [\"Normal\", \"Above Normal\", \"Well Above Normal\"])\n",
    "\n",
    "cs_df = pd.DataFrame(cs_data)\n",
    "cs_df[1] = cs_exp\n",
    "cs_df"
   ]
  },
  {
   "cell_type": "code",
   "execution_count": 21,
   "metadata": {},
   "outputs": [
    {
     "data": {
      "text/plain": [
       "Power_divergenceResult(statistic=1035.5834959331103, pvalue=1.3362911220535194e-225)"
      ]
     },
     "execution_count": 21,
     "metadata": {},
     "output_type": "execute_result"
    }
   ],
   "source": [
    "#Kendall\n",
    "#Run Chi Square\n",
    "stats.chisquare(cs_df[0], cs_df[1])"
   ]
  },
  {
   "cell_type": "code",
   "execution_count": 22,
   "metadata": {},
   "outputs": [
    {
     "data": {
      "text/html": [
       "<div>\n",
       "<style scoped>\n",
       "    .dataframe tbody tr th:only-of-type {\n",
       "        vertical-align: middle;\n",
       "    }\n",
       "\n",
       "    .dataframe tbody tr th {\n",
       "        vertical-align: top;\n",
       "    }\n",
       "\n",
       "    .dataframe thead th {\n",
       "        text-align: right;\n",
       "    }\n",
       "</style>\n",
       "<table border=\"1\" class=\"dataframe\">\n",
       "  <thead>\n",
       "    <tr style=\"text-align: right;\">\n",
       "      <th></th>\n",
       "      <th>No Heart Attack Glucose</th>\n",
       "      <th>Heart Attack Glucose</th>\n",
       "    </tr>\n",
       "  </thead>\n",
       "  <tbody>\n",
       "    <tr>\n",
       "      <th>Normal</th>\n",
       "      <td>30734</td>\n",
       "      <td>27900</td>\n",
       "    </tr>\n",
       "    <tr>\n",
       "      <th>Above Normal</th>\n",
       "      <td>2091</td>\n",
       "      <td>2994</td>\n",
       "    </tr>\n",
       "    <tr>\n",
       "      <th>Well Above Normal</th>\n",
       "      <td>2003</td>\n",
       "      <td>3245</td>\n",
       "    </tr>\n",
       "  </tbody>\n",
       "</table>\n",
       "</div>"
      ],
      "text/plain": [
       "                   No Heart Attack Glucose  Heart Attack Glucose\n",
       "Normal                               30734                 27900\n",
       "Above Normal                          2091                  2994\n",
       "Well Above Normal                     2003                  3245"
      ]
     },
     "execution_count": 22,
     "metadata": {},
     "output_type": "execute_result"
    }
   ],
   "source": [
    "#Kendall\n",
    "#Clean up chi data frame\n",
    "cs_df.columns = [\"No Heart Attack Glucose\", \"Heart Attack Glucose\"]\n",
    "cs_df"
   ]
  },
  {
   "cell_type": "code",
   "execution_count": 23,
   "metadata": {},
   "outputs": [
    {
     "data": {
      "image/png": "[encoded data removed]",
      "text/plain": [
       "<Figure size 432x288 with 1 Axes>"
      ]
     },
     "metadata": {},
     "output_type": "display_data"
    }
   ],
   "source": [
    "#Kendall\n",
    "#Create bar graph for chi square for Glucose Levels\n",
    "cardio_gluc = cs_df.plot.bar(rot=45, color = [\"green\", \"blue\"])"
   ]
  },
  {
   "cell_type": "code",
   "execution_count": 24,
   "metadata": {},
   "outputs": [],
   "source": [
    "#Dinesh\n",
    "#Cleaning up ap hi data\n",
    "cardio_1 = cardio1_df.groupby([\"cardio\"]).get_group(1)\n",
    "cardio_1.head()\n",
    "cardio_1 = cardio_1[cardio_1['ap_hi']>=50]\n",
    "cardio_1 = cardio_1[cardio_1['ap_hi']<200]"
   ]
  },
  {
   "cell_type": "code",
   "execution_count": 25,
   "metadata": {},
   "outputs": [],
   "source": [
    "#Dinesh\n",
    "#Cleaning up ap hi data for 0\n",
    "cardio_0 = cardio1_df.groupby([\"cardio\"]).get_group(0)\n",
    "cardio_0.head()\n",
    "cardio_0 = cardio_0[cardio_0['ap_hi']>=50]\n",
    "cardio_0 = cardio_0[cardio_0['ap_hi']<200]"
   ]
  },
  {
   "cell_type": "code",
   "execution_count": 26,
   "metadata": {},
   "outputs": [
    {
     "data": {
      "text/plain": [
       "Ttest_indResult(statistic=-126.69948484685598, pvalue=0.0)"
      ]
     },
     "execution_count": 26,
     "metadata": {},
     "output_type": "execute_result"
    }
   ],
   "source": [
    "#Dinesh\n",
    "#ttest for SBP\n",
    "stats.ttest_ind(cardio_0['ap_hi'], cardio_1['ap_hi'], equal_var = False)"
   ]
  },
  {
   "cell_type": "code",
   "execution_count": 27,
   "metadata": {},
   "outputs": [
    {
     "data": {
      "image/png": "[encoded data removed]",
      "text/plain": [
       "<Figure size 432x288 with 1 Axes>"
      ]
     },
     "metadata": {},
     "output_type": "display_data"
    }
   ],
   "source": [
    "#Dinesh\n",
    "#plot bell curve for SBP\n",
    "ax0 = sns.distplot(cardio_0[\"ap_hi\"], bins=10, fit=stats.norm, kde=False, label = \"ap_hi - No attack\", color = \"g\", fit_kws={\"color\":\"green\"})\n",
    "ax1 = sns.distplot(cardio_1[\"ap_hi\"], bins=10, fit=stats.norm, kde=False, label = \"ap_hi - Attack\", color =\"b\", fit_kws={\"color\":\"blue\"})\n",
    "\n",
    "#Change how it looks\n",
    "sns.set_style(\"darkgrid\")\n",
    "sns.set_style(\"ticks\")\n",
    "sns.set_context(\"paper\", font_scale=1.5)\n",
    "sns.set_palette(\"deep\")\n",
    "ax0.set(xlabel='Systolic Blood Pressure', ylabel='Frequency Count', title = \"Systolic Blood Pressure: Risk of Heart Attack\")\n",
    "ax1.set(xlabel='Systolic Blood Pressure', ylabel='Frequency Count', title = \"Systolic Blood Pressure: Risk of Heart Attack\")\n",
    "\n",
    "#Set x limits\n",
    "ax0.set(xlim = [0,250])\n",
    "ax1.set(xlim = [0,250])\n",
    "\n",
    "#Save the figure\n",
    "ax0.figure.savefig(\"SBP.png\")\n",
    "ax1.figure.savefig(\"SBP.png\")"
   ]
  },
  {
   "cell_type": "code",
   "execution_count": 28,
   "metadata": {},
   "outputs": [
    {
     "name": "stdout",
     "output_type": "stream",
     "text": [
      "22895\n",
      "5691\n",
      "6127\n"
     ]
    }
   ],
   "source": [
    "#Dinesh\n",
    "#Observed for cholesterol \n",
    "\n",
    "normal_chol_attack = len(cardio_1[cardio_1[\"cholesterol\"] == 1])\n",
    "print(normal_chol_attack)\n",
    "\n",
    "above_normal_chol_attack = len(cardio_1[cardio_1[\"cholesterol\"] == 2])\n",
    "print(above_normal_chol_attack)\n",
    "\n",
    "well_above_normal_chol_attack = len(cardio_1[cardio_1[\"cholesterol\"] == 3])\n",
    "print(well_above_normal_chol_attack)"
   ]
  },
  {
   "cell_type": "code",
   "execution_count": 29,
   "metadata": {},
   "outputs": [
    {
     "data": {
      "text/plain": [
       "normal cholesterol               22895\n",
       "above normal cholesterol          5691\n",
       "well above normal cholesterol     6127\n",
       "dtype: int64"
      ]
     },
     "execution_count": 29,
     "metadata": {},
     "output_type": "execute_result"
    }
   ],
   "source": [
    "#Dinesh\n",
    "#Create series for cholesterol\n",
    "observed_cholesterol=pd.Series([normal_chol_attack,above_normal_chol_attack, well_above_normal_chol_attack],index = ['normal cholesterol', 'above normal cholesterol', 'well above normal cholesterol'])\n",
    "observed_cholesterol"
   ]
  },
  {
   "cell_type": "code",
   "execution_count": 30,
   "metadata": {},
   "outputs": [
    {
     "name": "stdout",
     "output_type": "stream",
     "text": [
      "29223\n",
      "3780\n",
      "1885\n"
     ]
    }
   ],
   "source": [
    "#Dinesh\n",
    "#Expected for Cholesterol\n",
    "\n",
    "normal_chol_no_attack = len(cardio_0[cardio_0[\"cholesterol\"] == 1])\n",
    "print(normal_chol_no_attack)\n",
    "\n",
    "above_normal_chol_no_attack = len(cardio_0[cardio_0[\"cholesterol\"] == 2])\n",
    "print(above_normal_chol_no_attack)\n",
    "\n",
    "well_above_normal_chol_no_attack = len(cardio_0[cardio_0[\"cholesterol\"] == 3])\n",
    "print(well_above_normal_chol_no_attack)"
   ]
  },
  {
   "cell_type": "code",
   "execution_count": 31,
   "metadata": {},
   "outputs": [
    {
     "data": {
      "text/plain": [
       "normal cholesterol               29223\n",
       "above normal cholesterol          3780\n",
       "well above normal cholesterol     1885\n",
       "dtype: int64"
      ]
     },
     "execution_count": 31,
     "metadata": {},
     "output_type": "execute_result"
    }
   ],
   "source": [
    "#Dinesh\n",
    "#Created expected series for Cholesterol\n",
    "expected_cholesterol=pd.Series([normal_chol_no_attack, above_normal_chol_no_attack, well_above_normal_chol_no_attack],index = ['normal cholesterol', 'above normal cholesterol', 'well above normal cholesterol'])\n",
    "expected_cholesterol "
   ]
  },
  {
   "cell_type": "code",
   "execution_count": 32,
   "metadata": {},
   "outputs": [
    {
     "data": {
      "text/html": [
       "<div>\n",
       "<style scoped>\n",
       "    .dataframe tbody tr th:only-of-type {\n",
       "        vertical-align: middle;\n",
       "    }\n",
       "\n",
       "    .dataframe tbody tr th {\n",
       "        vertical-align: top;\n",
       "    }\n",
       "\n",
       "    .dataframe thead th {\n",
       "        text-align: right;\n",
       "    }\n",
       "</style>\n",
       "<table border=\"1\" class=\"dataframe\">\n",
       "  <thead>\n",
       "    <tr style=\"text-align: right;\">\n",
       "      <th></th>\n",
       "      <th>observed cholesterol</th>\n",
       "      <th>expected cholesterol</th>\n",
       "    </tr>\n",
       "  </thead>\n",
       "  <tbody>\n",
       "    <tr>\n",
       "      <th>normal cholesterol</th>\n",
       "      <td>22895</td>\n",
       "      <td>29223</td>\n",
       "    </tr>\n",
       "    <tr>\n",
       "      <th>above normal cholesterol</th>\n",
       "      <td>5691</td>\n",
       "      <td>3780</td>\n",
       "    </tr>\n",
       "    <tr>\n",
       "      <th>well above normal cholesterol</th>\n",
       "      <td>6127</td>\n",
       "      <td>1885</td>\n",
       "    </tr>\n",
       "  </tbody>\n",
       "</table>\n",
       "</div>"
      ],
      "text/plain": [
       "                               observed cholesterol  expected cholesterol\n",
       "normal cholesterol                            22895                 29223\n",
       "above normal cholesterol                       5691                  3780\n",
       "well above normal cholesterol                  6127                  1885"
      ]
     },
     "execution_count": 32,
     "metadata": {},
     "output_type": "execute_result"
    }
   ],
   "source": [
    "#Dinesh\n",
    "#Create cholesterol chi dataframe\n",
    "df_chol = pd.DataFrame([observed_cholesterol,expected_cholesterol]).T\n",
    "df_chol.columns = ['observed cholesterol','expected cholesterol']\n",
    "df_chol"
   ]
  },
  {
   "cell_type": "code",
   "execution_count": 33,
   "metadata": {},
   "outputs": [
    {
     "data": {
      "text/plain": [
       "Power_divergenceResult(statistic=11882.580754299395, pvalue=0.0)"
      ]
     },
     "execution_count": 33,
     "metadata": {},
     "output_type": "execute_result"
    }
   ],
   "source": [
    "#Dinesh\n",
    "#Run chi square for cholesterol\n",
    "stats.chisquare(df_chol['observed cholesterol'], df_chol['expected cholesterol'])"
   ]
  },
  {
   "cell_type": "code",
   "execution_count": 34,
   "metadata": {},
   "outputs": [
    {
     "name": "stdout",
     "output_type": "stream",
     "text": [
      "6353 28535 34888\n",
      "Active      28535\n",
      "Inactive     6353\n",
      "dtype: int64\n"
     ]
    }
   ],
   "source": [
    "#Vin\n",
    "#Create expected for chi test\n",
    "active_cardio_0 = len(cardio_0[cardio_0[\"active\"] == 1])\n",
    "inactive_cardio_0 = len(cardio_0[cardio_0[\"active\"] == 0])\n",
    "total_0 = len(cardio_0[\"active\"])\n",
    "print (inactive_cardio_0, active_cardio_0, total_0)\n",
    "expected = pd.Series([active_cardio_0,inactive_cardio_0], index=[\"Active\", \"Inactive\"])\n",
    "print(expected)"
   ]
  },
  {
   "cell_type": "code",
   "execution_count": 35,
   "metadata": {},
   "outputs": [
    {
     "name": "stdout",
     "output_type": "stream",
     "text": [
      "7301 27412 34713\n",
      "Active      27412\n",
      "Inactive     7301\n",
      "dtype: int64\n"
     ]
    }
   ],
   "source": [
    "#Vin\n",
    "#Create observed for chi test\n",
    "active_cardio_1 = len(cardio_1[cardio_1[\"active\"] == 1])\n",
    "inactive_cardio_1 = len(cardio_1[cardio_1[\"active\"] == 0])\n",
    "total_1 = len(cardio_1[\"active\"])\n",
    "print (inactive_cardio_1, active_cardio_1, total_1)\n",
    "observed = pd.Series([active_cardio_1,inactive_cardio_1], index=[\"Active\", \"Inactive\"])\n",
    "print(observed)"
   ]
  },
  {
   "cell_type": "code",
   "execution_count": 36,
   "metadata": {},
   "outputs": [
    {
     "data": {
      "text/html": [
       "<div>\n",
       "<style scoped>\n",
       "    .dataframe tbody tr th:only-of-type {\n",
       "        vertical-align: middle;\n",
       "    }\n",
       "\n",
       "    .dataframe tbody tr th {\n",
       "        vertical-align: top;\n",
       "    }\n",
       "\n",
       "    .dataframe thead th {\n",
       "        text-align: right;\n",
       "    }\n",
       "</style>\n",
       "<table border=\"1\" class=\"dataframe\">\n",
       "  <thead>\n",
       "    <tr style=\"text-align: right;\">\n",
       "      <th></th>\n",
       "      <th>Observed</th>\n",
       "      <th>Expected</th>\n",
       "    </tr>\n",
       "  </thead>\n",
       "  <tbody>\n",
       "    <tr>\n",
       "      <th>Active</th>\n",
       "      <td>27412</td>\n",
       "      <td>28535</td>\n",
       "    </tr>\n",
       "    <tr>\n",
       "      <th>Inactive</th>\n",
       "      <td>7301</td>\n",
       "      <td>6353</td>\n",
       "    </tr>\n",
       "  </tbody>\n",
       "</table>\n",
       "</div>"
      ],
      "text/plain": [
       "          Observed  Expected\n",
       "Active       27412     28535\n",
       "Inactive      7301      6353"
      ]
     },
     "execution_count": 36,
     "metadata": {},
     "output_type": "execute_result"
    }
   ],
   "source": [
    "#Vin\n",
    "#Create dataframe for Chi test\n",
    "activitylevel_df = pd.DataFrame([observed,expected]).T\n",
    "activitylevel_df.columns = ['Observed','Expected']\n",
    "activitylevel_df.head()"
   ]
  },
  {
   "cell_type": "code",
   "execution_count": 37,
   "metadata": {},
   "outputs": [
    {
     "data": {
      "text/plain": [
       "Power_divergenceResult(statistic=185.65722156681613, pvalue=2.82047450002704e-42)"
      ]
     },
     "execution_count": 37,
     "metadata": {},
     "output_type": "execute_result"
    }
   ],
   "source": [
    "#Vin\n",
    "#Run chi square test for active lifestyle\n",
    "stats.chisquare(activitylevel_df['Observed'], activitylevel_df['Expected'])"
   ]
  },
  {
   "cell_type": "code",
   "execution_count": 38,
   "metadata": {},
   "outputs": [
    {
     "data": {
      "text/plain": [
       "Ttest_indResult(statistic=3.0369016848180057, pvalue=0.0023911186695552964)"
      ]
     },
     "execution_count": 38,
     "metadata": {},
     "output_type": "execute_result"
    }
   ],
   "source": [
    "#Adil\n",
    "# Height\n",
    "stats.ttest_ind(cardio_0['height'], cardio_1['height'], equal_var = False)"
   ]
  },
  {
   "cell_type": "code",
   "execution_count": 39,
   "metadata": {},
   "outputs": [
    {
     "data": {
      "image/png": "[encoded data removed]",
      "text/plain": [
       "<Figure size 432x288 with 1 Axes>"
      ]
     },
     "metadata": {},
     "output_type": "display_data"
    }
   ],
   "source": [
    "#Adil\n",
    "#Create bell curve for height\n",
    "height0 = sns.distplot(cardio_0['height'],fit=norm, kde=False, bins = 40, label = \"height-No Heart Attack\", color = \"g\", fit_kws={\"color\":\"green\"})\n",
    "height1 = sns.distplot(cardio_1['height'],fit=norm, kde=False, bins = 40, label = \"height-Heart Attack\", color = \"b\", fit_kws={\"color\":\"blue\"})\n",
    "\n",
    "#Change how it looks\n",
    "sns.set_style(\"darkgrid\")\n",
    "sns.set_style(\"ticks\")\n",
    "sns.set_context(\"paper\", font_scale=1.5)\n",
    "sns.set_palette(\"deep\")\n",
    "height0.set(xlabel='Height', ylabel='Frequency Count', title = \"Height: Risk of Heart Attack\")\n",
    "height1.set(xlabel='Height', ylabel='Frequency Count', title = \"Height: Risk of Heart Attack\")\n",
    "\n",
    "#Set x limits\n",
    "height0.set(xlim = [20,100])\n",
    "height1.set(xlim = [20,100])\n",
    "\n",
    "#Save the figure\n",
    "height0.figure.savefig(\"Height.png\")\n",
    "height1.figure.savefig(\"Height.png\")"
   ]
  },
  {
   "cell_type": "code",
   "execution_count": 40,
   "metadata": {},
   "outputs": [
    {
     "data": {
      "text/plain": [
       "<matplotlib.axes._subplots.AxesSubplot at 0x271fb5e47b8>"
      ]
     },
     "execution_count": 40,
     "metadata": {},
     "output_type": "execute_result"
    },
    {
     "data": {
      "image/png": "[encoded data removed]",
      "text/plain": [
       "<Figure size 432x288 with 1 Axes>"
      ]
     },
     "metadata": {},
     "output_type": "display_data"
    }
   ],
   "source": [
    "#Adil\n",
    "# Box Plot\n",
    "sns.boxplot(x='cardio',y='height', data=cardio_df)"
   ]
  },
  {
   "cell_type": "code",
   "execution_count": 41,
   "metadata": {},
   "outputs": [
    {
     "data": {
      "text/plain": [
       "Ttest_indResult(statistic=-44.17864038269167, pvalue=0.0)"
      ]
     },
     "execution_count": 41,
     "metadata": {},
     "output_type": "execute_result"
    }
   ],
   "source": [
    "#Adil\n",
    "# BMI\n",
    "stats.ttest_ind(cardio_0['BMI'], cardio_1['BMI'], equal_var = False)"
   ]
  },
  {
   "cell_type": "code",
   "execution_count": 42,
   "metadata": {},
   "outputs": [
    {
     "data": {
      "image/png": "[encoded data removed]",
      "text/plain": [
       "<Figure size 432x288 with 1 Axes>"
      ]
     },
     "metadata": {},
     "output_type": "display_data"
    }
   ],
   "source": [
    "#Adil\n",
    "#BMI bell curve\n",
    "bmi0 = sns.distplot(cardio_0['BMI'],fit=norm, kde=False, bins = 40, label = \"BMI-No Heart Attack\", color = \"g\", fit_kws={\"color\":\"green\"})\n",
    "bmi1 = sns.distplot(cardio_1['BMI'],fit=norm, kde=False, bins = 40, label = \"BMI-Heart Attack\", color = \"b\", fit_kws={\"color\":\"blue\"})\n",
    "\n",
    "#Change how it looks\n",
    "sns.set_style(\"darkgrid\")\n",
    "sns.set_style(\"ticks\")\n",
    "sns.set_context(\"paper\", font_scale=1.5)\n",
    "sns.set_palette(\"deep\")\n",
    "bmi0.set(xlabel='BMI', ylabel='Frequency Count', title = \"BMI: Risk of Heart Attack\")\n",
    "bmi1.set(xlabel='BMI', ylabel='Frequency Count', title = \"BMI: Risk of Heart Attack\")\n",
    "\n",
    "#Set x limits\n",
    "bmi0.set(xlim = [0,100])\n",
    "bmi1.set(xlim = [0,100])\n",
    "\n",
    "#Save the figure\n",
    "bmi0.figure.savefig(\"BMI.png\")\n",
    "bmi1.figure.savefig(\"BMI.png\")"
   ]
  },
  {
   "cell_type": "code",
   "execution_count": 43,
   "metadata": {},
   "outputs": [
    {
     "name": "stdout",
     "output_type": "stream",
     "text": [
      "31812\n"
     ]
    },
    {
     "data": {
      "text/plain": [
       "non-smoking    31812\n",
       "smoking         2901\n",
       "dtype: int64"
      ]
     },
     "execution_count": 43,
     "metadata": {},
     "output_type": "execute_result"
    }
   ],
   "source": [
    "#Adil\n",
    "#Observed for chi for smoking\n",
    "nosmoke_attack = len(cardio_1[cardio_1[\"smoke\"] == 0])\n",
    "print(nosmoke_attack)\n",
    "\n",
    "smoke_attack = len(cardio_1[cardio_1[\"smoke\"] == 1])\n",
    "smoke_attack\n",
    "\n",
    "#Create observed series\n",
    "observed=pd.Series([nosmoke_attack,smoke_attack],index = ['non-smoking', 'smoking'])\n",
    "observed"
   ]
  },
  {
   "cell_type": "code",
   "execution_count": 44,
   "metadata": {},
   "outputs": [
    {
     "data": {
      "text/plain": [
       "non-smoking    31659\n",
       "smoking         3229\n",
       "dtype: int64"
      ]
     },
     "execution_count": 44,
     "metadata": {},
     "output_type": "execute_result"
    }
   ],
   "source": [
    "#Adil\n",
    "#Expected for chi for smoking\n",
    "nosmoke_noattack = len(cardio_0[cardio_0[\"smoke\"] == 0])\n",
    "nosmoke_noattack\n",
    "\n",
    "smoke_noattack = len(cardio_0[cardio_0[\"smoke\"] == 1])\n",
    "smoke_noattack\n",
    "\n",
    "#Create expected series\n",
    "expected=pd.Series([nosmoke_noattack, smoke_noattack],index = ['non-smoking', 'smoking'])\n",
    "expected"
   ]
  },
  {
   "cell_type": "code",
   "execution_count": 45,
   "metadata": {},
   "outputs": [
    {
     "data": {
      "text/html": [
       "<div>\n",
       "<style scoped>\n",
       "    .dataframe tbody tr th:only-of-type {\n",
       "        vertical-align: middle;\n",
       "    }\n",
       "\n",
       "    .dataframe tbody tr th {\n",
       "        vertical-align: top;\n",
       "    }\n",
       "\n",
       "    .dataframe thead th {\n",
       "        text-align: right;\n",
       "    }\n",
       "</style>\n",
       "<table border=\"1\" class=\"dataframe\">\n",
       "  <thead>\n",
       "    <tr style=\"text-align: right;\">\n",
       "      <th></th>\n",
       "      <th>observed</th>\n",
       "      <th>expected</th>\n",
       "    </tr>\n",
       "  </thead>\n",
       "  <tbody>\n",
       "    <tr>\n",
       "      <th>non-smoking</th>\n",
       "      <td>31812</td>\n",
       "      <td>31659</td>\n",
       "    </tr>\n",
       "    <tr>\n",
       "      <th>smoking</th>\n",
       "      <td>2901</td>\n",
       "      <td>3229</td>\n",
       "    </tr>\n",
       "  </tbody>\n",
       "</table>\n",
       "</div>"
      ],
      "text/plain": [
       "             observed  expected\n",
       "non-smoking     31812     31659\n",
       "smoking          2901      3229"
      ]
     },
     "execution_count": 45,
     "metadata": {},
     "output_type": "execute_result"
    }
   ],
   "source": [
    "#Adil\n",
    "#Create chi dataframe for smoking\n",
    "df = pd.DataFrame([observed,expected]).T\n",
    "df.columns = ['observed','expected']\n",
    "df"
   ]
  },
  {
   "cell_type": "code",
   "execution_count": 46,
   "metadata": {},
   "outputs": [
    {
     "data": {
      "text/plain": [
       "Power_divergenceResult(statistic=34.05746571956968, pvalue=5.350821262191846e-09)"
      ]
     },
     "execution_count": 46,
     "metadata": {},
     "output_type": "execute_result"
    }
   ],
   "source": [
    "#Adil\n",
    "#Run chi test for smoking\n",
    "stats.chisquare(df['observed'], df['expected'])"
   ]
  },
  {
   "cell_type": "code",
   "execution_count": 47,
   "metadata": {},
   "outputs": [
    {
     "data": {
      "text/plain": [
       "Ttest_indResult(statistic=-48.39551830774373, pvalue=0.0)"
      ]
     },
     "execution_count": 47,
     "metadata": {},
     "output_type": "execute_result"
    }
   ],
   "source": [
    "#Yannick\n",
    "# T test of weight for both group (with heart attack and without heart attack)\n",
    "stats.ttest_ind(cardio_0['weight'], cardio_1['weight'], equal_var=False)"
   ]
  },
  {
   "cell_type": "code",
   "execution_count": 48,
   "metadata": {},
   "outputs": [
    {
     "data": {
      "image/png": "[encoded data removed]",
      "text/plain": [
       "<Figure size 432x288 with 1 Axes>"
      ]
     },
     "metadata": {},
     "output_type": "display_data"
    }
   ],
   "source": [
    "#Yannick\n",
    "# Plot weight without heat attack (cardio_0) and with heart attack (cardio_1)\n",
    "weight0 = sns.distplot(cardio_0[\"weight\"], bins=10, fit=stats.norm, kde=False, label = \"No Heart Attack\", color = \"g\", fit_kws ={\"color\":\"green\"})\n",
    "weight1 = sns.distplot(cardio_1[\"weight\"], bins=10, fit=stats.norm, kde=False, label = \"Heart Attack\", color = \"b\", fit_kws ={\"color\":\"blue\"})\n",
    "\n",
    "#Change how it looks\n",
    "sns.set_style(\"darkgrid\")\n",
    "sns.set_style(\"ticks\")\n",
    "sns.set_context(\"paper\", font_scale=1.5)\n",
    "sns.set_palette(\"deep\")\n",
    "weight0.set(xlabel='Weight', ylabel='Frequency Count', title = \"Weight: Risk of Heart Attack\")\n",
    "weight1.set(xlabel='Weight', ylabel='Frequency Count', title = \"Weight: Risk of Heart Attack\")\n",
    "\n",
    "#Set x limits\n",
    "weight0.set(xlim = [0,350])\n",
    "weight1.set(xlim = [0,350])\n",
    "\n",
    "#Save the figure\n",
    "weight0.figure.savefig(\"Weight.png\")\n",
    "weight1.figure.savefig(\"Weight.png\")"
   ]
  },
  {
   "cell_type": "code",
   "execution_count": 49,
   "metadata": {},
   "outputs": [
    {
     "data": {
      "image/png": "[encoded data removed]",
      "text/plain": [
       "<Figure size 432x288 with 1 Axes>"
      ]
     },
     "metadata": {},
     "output_type": "display_data"
    }
   ],
   "source": [
    "#Yannick\n",
    "# Plot weight without heat attack (cardio_0) and with heart attack (cardio_1) not fit\n",
    "w0 = sns.distplot(cardio_0[\"weight\"], bins=10, kde=False, label = \"No Heart Attack\", color = \"g\")\n",
    "w1 = sns.distplot(cardio_1[\"weight\"], bins=10, kde=False, label = \"Heart Attack\", color = \"b\")\n",
    "\n",
    "#Change how it looks\n",
    "sns.set_style(\"darkgrid\")\n",
    "sns.set_style(\"ticks\")\n",
    "sns.set_context(\"paper\", font_scale=1.5)\n",
    "sns.set_palette(\"deep\")\n",
    "w0.set(xlabel='Weight', ylabel='Frequency Count', title = \"Weight: Risk of Heart Attack\")\n",
    "w1.set(xlabel='Weight', ylabel='Frequency Count', title = \"Weight: Risk of Heart Attack\")\n",
    "\n",
    "#Set x limits\n",
    "w0.set(xlim = [0,350])\n",
    "w1.set(xlim = [0,350])\n",
    "\n",
    "#Save the figure\n",
    "w0.figure.savefig(\"Weight2.png\")\n",
    "w1.figure.savefig(\"Weight2.png\")"
   ]
  },
  {
   "cell_type": "code",
   "execution_count": 50,
   "metadata": {},
   "outputs": [
    {
     "name": "stdout",
     "output_type": "stream",
     "text": [
      "1805\n",
      "32908\n"
     ]
    }
   ],
   "source": [
    "#Yannick\n",
    "# Observed alcohol level (with heart attack)\n",
    "alcoholic_attack = len(cardio_1[cardio_1[\"alco\"] == 1 ])\n",
    "print(alcoholic_attack)\n",
    "nonealcoholic_attack = len(cardio_1[cardio_1[\"alco\"] == 0 ])\n",
    "print(nonealcoholic_attack)"
   ]
  },
  {
   "cell_type": "code",
   "execution_count": 51,
   "metadata": {},
   "outputs": [
    {
     "data": {
      "text/plain": [
       "Consume alcohol            1805\n",
       "Do not consume alcohol    32908\n",
       "dtype: int64"
      ]
     },
     "execution_count": 51,
     "metadata": {},
     "output_type": "execute_result"
    }
   ],
   "source": [
    "#Yannick\n",
    "#create dataframe for observed alcohol level(with heart attack)\n",
    "observed_alcohol=pd.Series([alcoholic_attack, nonealcoholic_attack],index = ['Consume alcohol', 'Do not consume alcohol'])\n",
    "observed_alcohol"
   ]
  },
  {
   "cell_type": "code",
   "execution_count": 52,
   "metadata": {},
   "outputs": [
    {
     "name": "stdout",
     "output_type": "stream",
     "text": [
      "1932\n",
      "32956\n"
     ]
    }
   ],
   "source": [
    "#Yannick\n",
    "# Expected alcohol level (without heart attack)\n",
    "alcoholic_no_attack = len(cardio_0[cardio_0[\"alco\"] == 1 ])\n",
    "print(alcoholic_no_attack)\n",
    "nonealcoholic_no_attack = len(cardio_0[cardio_0[\"alco\"] == 0 ])\n",
    "print(nonealcoholic_no_attack)"
   ]
  },
  {
   "cell_type": "code",
   "execution_count": 53,
   "metadata": {},
   "outputs": [
    {
     "data": {
      "text/plain": [
       "Consume alcohol            1932\n",
       "Do not consume alcohol    32956\n",
       "dtype: int64"
      ]
     },
     "execution_count": 53,
     "metadata": {},
     "output_type": "execute_result"
    }
   ],
   "source": [
    "#Yannick\n",
    "#create dataframe for expected alcohol level (without heart attack)\n",
    "expected_alcohol=pd.Series([alcoholic_no_attack, nonealcoholic_no_attack],index = ['Consume alcohol', 'Do not consume alcohol'])\n",
    "expected_alcohol"
   ]
  },
  {
   "cell_type": "code",
   "execution_count": 54,
   "metadata": {},
   "outputs": [
    {
     "data": {
      "text/html": [
       "<div>\n",
       "<style scoped>\n",
       "    .dataframe tbody tr th:only-of-type {\n",
       "        vertical-align: middle;\n",
       "    }\n",
       "\n",
       "    .dataframe tbody tr th {\n",
       "        vertical-align: top;\n",
       "    }\n",
       "\n",
       "    .dataframe thead th {\n",
       "        text-align: right;\n",
       "    }\n",
       "</style>\n",
       "<table border=\"1\" class=\"dataframe\">\n",
       "  <thead>\n",
       "    <tr style=\"text-align: right;\">\n",
       "      <th></th>\n",
       "      <th>Observed alcohol</th>\n",
       "      <th>Expected alcohol</th>\n",
       "    </tr>\n",
       "  </thead>\n",
       "  <tbody>\n",
       "    <tr>\n",
       "      <th>Consume alcohol</th>\n",
       "      <td>1805</td>\n",
       "      <td>1932</td>\n",
       "    </tr>\n",
       "    <tr>\n",
       "      <th>Do not consume alcohol</th>\n",
       "      <td>32908</td>\n",
       "      <td>32956</td>\n",
       "    </tr>\n",
       "  </tbody>\n",
       "</table>\n",
       "</div>"
      ],
      "text/plain": [
       "                        Observed alcohol  Expected alcohol\n",
       "Consume alcohol                     1805              1932\n",
       "Do not consume alcohol             32908             32956"
      ]
     },
     "execution_count": 54,
     "metadata": {},
     "output_type": "execute_result"
    }
   ],
   "source": [
    "#Yannick\n",
    "# create dataframe for both expected (without heart attack) and observed (with heart attack)\n",
    "df_alco = pd.DataFrame([observed_alcohol,expected_alcohol]).T\n",
    "df_alco.columns = [\"Observed alcohol\",\"Expected alcohol\"]\n",
    "df_alco"
   ]
  },
  {
   "cell_type": "code",
   "execution_count": 55,
   "metadata": {},
   "outputs": [
    {
     "data": {
      "text/plain": [
       "5.991464547107979"
      ]
     },
     "execution_count": 55,
     "metadata": {},
     "output_type": "execute_result"
    }
   ],
   "source": [
    "#Yannick\n",
    "# The degree of freedom is 3-1 = 2\n",
    "# With a p-value of 0.05, the confidence level is 1.00-0.05 = 0.95.\n",
    "critical_value = stats.chi2.ppf(q = 0.95, df = 2)\n",
    "critical_value"
   ]
  },
  {
   "cell_type": "code",
   "execution_count": 56,
   "metadata": {},
   "outputs": [
    {
     "data": {
      "text/plain": [
       "Power_divergenceResult(statistic=8.418255082314408, pvalue=0.003714721306198256)"
      ]
     },
     "execution_count": 56,
     "metadata": {},
     "output_type": "execute_result"
    }
   ],
   "source": [
    "#Yannick\n",
    "# Run the chi square test with stats.chisquare()\n",
    "stats.chisquare(df_alco['Observed alcohol'], df_alco['Expected alcohol'])"
   ]
  },
  {
   "cell_type": "code",
   "execution_count": null,
   "metadata": {},
   "outputs": [],
   "source": []
  }
 ],
 "metadata": {
  "kernelspec": {
   "display_name": "Python 36(PythonData)",
   "language": "python",
   "name": "pythondata"
  },
  "language_info": {
   "codemirror_mode": {
    "name": "ipython",
    "version": 3
   },
   "file_extension": ".py",
   "mimetype": "text/x-python",
   "name": "python",
   "nbconvert_exporter": "python",
   "pygments_lexer": "ipython3",
   "version": "3.6.8"
  }
 },
 "nbformat": 4,
 "nbformat_minor": 2
}
